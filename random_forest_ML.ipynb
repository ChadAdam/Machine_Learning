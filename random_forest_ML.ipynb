{
 "cells": [
  {
   "cell_type": "markdown",
   "metadata": {},
   "source": [
    "## PLACEHOLDER\n",
    "### Import data\n",
    "The data we are importing is stored in a PostgreSQL database. This data is the review posts on yelp ranging from April 2005 till January 2013. Each post is identified by a review id. Each review id has a corrisponding user id for the user who posted it and business id for the business being posted about. Each post includes the cool , useful , and funny votes given by the community members. \n",
    "\n",
    "First we need to connect and retrieve this data from the database. We can import psycopg2 which is a PostgreSQL adapter for Python used to interegrate Python with PostgreSQL. We use it to connect to my personal database namd script on the local machine. Now we can execute commands to the database. We will do this using pandas to query for the table business and return the results in dataframe. A dataframe is essentially a data object in Python that allows manipulating of data in table form, with columns and rows. Let's first test it to see what the table looks like:"
   ]
  },
  {
   "cell_type": "code",
   "execution_count": 1,
   "metadata": {
    "scrolled": false
   },
   "outputs": [
    {
     "data": {
      "text/html": [
       "<div>\n",
       "<style scoped>\n",
       "    .dataframe tbody tr th:only-of-type {\n",
       "        vertical-align: middle;\n",
       "    }\n",
       "\n",
       "    .dataframe tbody tr th {\n",
       "        vertical-align: top;\n",
       "    }\n",
       "\n",
       "    .dataframe thead th {\n",
       "        text-align: right;\n",
       "    }\n",
       "</style>\n",
       "<table border=\"1\" class=\"dataframe\">\n",
       "  <thead>\n",
       "    <tr style=\"text-align: right;\">\n",
       "      <th></th>\n",
       "      <th>bid</th>\n",
       "      <th>date</th>\n",
       "      <th>rid</th>\n",
       "      <th>star</th>\n",
       "      <th>texts</th>\n",
       "      <th>texttype</th>\n",
       "      <th>uid</th>\n",
       "      <th>cool</th>\n",
       "      <th>useful</th>\n",
       "      <th>funny</th>\n",
       "    </tr>\n",
       "  </thead>\n",
       "  <tbody>\n",
       "    <tr>\n",
       "      <th>0</th>\n",
       "      <td>business_id</td>\n",
       "      <td>date</td>\n",
       "      <td>review_id</td>\n",
       "      <td>stars</td>\n",
       "      <td>text</td>\n",
       "      <td>type</td>\n",
       "      <td>user_id</td>\n",
       "      <td>cool</td>\n",
       "      <td>useful</td>\n",
       "      <td>funny</td>\n",
       "    </tr>\n",
       "    <tr>\n",
       "      <th>1</th>\n",
       "      <td>9yKzy9PApeiPPOUJEtnvkg</td>\n",
       "      <td>2011-01-26</td>\n",
       "      <td>fWKvX83p0-ka4JS3dc6E5A</td>\n",
       "      <td>5</td>\n",
       "      <td>My wife took me here on my birthday for breakf...</td>\n",
       "      <td>review</td>\n",
       "      <td>rLtl8ZkDX5vH5nAx9C3q5Q</td>\n",
       "      <td>2</td>\n",
       "      <td>5</td>\n",
       "      <td>0</td>\n",
       "    </tr>\n",
       "    <tr>\n",
       "      <th>2</th>\n",
       "      <td>ZRJwVLyzEJq1VAihDhYiow</td>\n",
       "      <td>2011-07-27</td>\n",
       "      <td>IjZ33sJrzXqU-0X6U8NwyA</td>\n",
       "      <td>5</td>\n",
       "      <td>I have no idea why some people give bad review...</td>\n",
       "      <td>review</td>\n",
       "      <td>0a2KyEL0d3Yb1V6aivbIuQ</td>\n",
       "      <td>0</td>\n",
       "      <td>0</td>\n",
       "      <td>0</td>\n",
       "    </tr>\n",
       "    <tr>\n",
       "      <th>3</th>\n",
       "      <td>6oRAC4uyJCsJl1X0WZpVSA</td>\n",
       "      <td>2012-06-14</td>\n",
       "      <td>IESLBzqUCLdSzSqm0eCSxQ</td>\n",
       "      <td>4</td>\n",
       "      <td>love the gyro plate. Rice is so good and I als...</td>\n",
       "      <td>review</td>\n",
       "      <td>0hT2KtfLiobPvh6cDC8JQg</td>\n",
       "      <td>0</td>\n",
       "      <td>1</td>\n",
       "      <td>0</td>\n",
       "    </tr>\n",
       "    <tr>\n",
       "      <th>4</th>\n",
       "      <td>_1QQZuf4zZOyFCvXc0o6Vg</td>\n",
       "      <td>2010-05-27</td>\n",
       "      <td>G-WvGaISbqqaMHlNnByodA</td>\n",
       "      <td>5</td>\n",
       "      <td>Rosie Dakota and I LOVE Chaparral Dog Park!!! ...</td>\n",
       "      <td>review</td>\n",
       "      <td>uZetl9T0NcROGOyFfughhg</td>\n",
       "      <td>1</td>\n",
       "      <td>2</td>\n",
       "      <td>0</td>\n",
       "    </tr>\n",
       "  </tbody>\n",
       "</table>\n",
       "</div>"
      ],
      "text/plain": [
       "                      bid        date                     rid   star  \\\n",
       "0             business_id        date               review_id  stars   \n",
       "1  9yKzy9PApeiPPOUJEtnvkg  2011-01-26  fWKvX83p0-ka4JS3dc6E5A      5   \n",
       "2  ZRJwVLyzEJq1VAihDhYiow  2011-07-27  IjZ33sJrzXqU-0X6U8NwyA      5   \n",
       "3  6oRAC4uyJCsJl1X0WZpVSA  2012-06-14  IESLBzqUCLdSzSqm0eCSxQ      4   \n",
       "4  _1QQZuf4zZOyFCvXc0o6Vg  2010-05-27  G-WvGaISbqqaMHlNnByodA      5   \n",
       "\n",
       "                                               texts texttype  \\\n",
       "0                                               text     type   \n",
       "1  My wife took me here on my birthday for breakf...   review   \n",
       "2  I have no idea why some people give bad review...   review   \n",
       "3  love the gyro plate. Rice is so good and I als...   review   \n",
       "4  Rosie Dakota and I LOVE Chaparral Dog Park!!! ...   review   \n",
       "\n",
       "                      uid  cool  useful  funny  \n",
       "0                 user_id  cool  useful  funny  \n",
       "1  rLtl8ZkDX5vH5nAx9C3q5Q     2       5      0  \n",
       "2  0a2KyEL0d3Yb1V6aivbIuQ     0       0      0  \n",
       "3  0hT2KtfLiobPvh6cDC8JQg     0       1      0  \n",
       "4  uZetl9T0NcROGOyFfughhg     1       2      0  "
      ]
     },
     "execution_count": 1,
     "metadata": {},
     "output_type": "execute_result"
    }
   ],
   "source": [
    "import psycopg2\n",
    "import pandas as pd\n",
    "import matplotlib.pyplot as plt\n",
    "# Connect to personal database that contains Yelp.csv data as table business\n",
    "conn = psycopg2.connect(host=\"localhost\" , dbname=\"script\", user=\"adam\", password=\"Password\")\n",
    "#conn = psycopg2.connect(host=\"localhost\" , dbname=\"test\", user=\"postgres\", password=\"toor\")\n",
    "# Read in table business and show first 5 lines \n",
    "test_query = pd.read_sql_query(\"SELECT * FROM business\", conn)\n",
    "test_query.head()"
   ]
  },
  {
   "cell_type": "markdown",
   "metadata": {},
   "source": [
    "## Understanding the Data\n",
    "### Finding all unique columns\n",
    "\n",
    "Some things of notice about the data is:\n",
    "1. Some columns we might not need \n",
    "2. The heading seems to be in the first row \n",
    "3. It's not clear which IDs should we consider for insight\n",
    "\n",
    "We will solve #1 and #2 later on; for now let's solve #3. To solve #3 we should first find out how unique each column is. We do this by creating a list of both the column name and the percentage of values that are unique(0 to 1).\n",
    "\n",
    "Our results how that review id is the only column that is completely unique with a ratio of 1. This means that every rid will reference 1 buid(business id) and 1 uid(user id) as it is impossible for any particular rid to repeat. This is oppose to bid and uid which both are only 40% and 60% unique respectively. This means we can use those two to learn more."
   ]
  },
  {
   "cell_type": "code",
   "execution_count": 2,
   "metadata": {
    "scrolled": true
   },
   "outputs": [
    {
     "data": {
      "text/html": [
       "<div>\n",
       "<style scoped>\n",
       "    .dataframe tbody tr th:only-of-type {\n",
       "        vertical-align: middle;\n",
       "    }\n",
       "\n",
       "    .dataframe tbody tr th {\n",
       "        vertical-align: top;\n",
       "    }\n",
       "\n",
       "    .dataframe thead th {\n",
       "        text-align: right;\n",
       "    }\n",
       "</style>\n",
       "<table border=\"1\" class=\"dataframe\">\n",
       "  <thead>\n",
       "    <tr style=\"text-align: right;\">\n",
       "      <th></th>\n",
       "      <th>data names</th>\n",
       "      <th>unique length</th>\n",
       "    </tr>\n",
       "  </thead>\n",
       "  <tbody>\n",
       "    <tr>\n",
       "      <th>0</th>\n",
       "      <td>bid</td>\n",
       "      <td>0.417458</td>\n",
       "    </tr>\n",
       "    <tr>\n",
       "      <th>1</th>\n",
       "      <td>date</td>\n",
       "      <td>0.199580</td>\n",
       "    </tr>\n",
       "    <tr>\n",
       "      <th>2</th>\n",
       "      <td>rid</td>\n",
       "      <td>1.000000</td>\n",
       "    </tr>\n",
       "    <tr>\n",
       "      <th>3</th>\n",
       "      <td>star</td>\n",
       "      <td>0.000600</td>\n",
       "    </tr>\n",
       "    <tr>\n",
       "      <th>4</th>\n",
       "      <td>texts</td>\n",
       "      <td>0.999800</td>\n",
       "    </tr>\n",
       "    <tr>\n",
       "      <th>5</th>\n",
       "      <td>texttype</td>\n",
       "      <td>0.000200</td>\n",
       "    </tr>\n",
       "    <tr>\n",
       "      <th>6</th>\n",
       "      <td>uid</td>\n",
       "      <td>0.640336</td>\n",
       "    </tr>\n",
       "    <tr>\n",
       "      <th>7</th>\n",
       "      <td>cool</td>\n",
       "      <td>0.003000</td>\n",
       "    </tr>\n",
       "    <tr>\n",
       "      <th>8</th>\n",
       "      <td>useful</td>\n",
       "      <td>0.002900</td>\n",
       "    </tr>\n",
       "    <tr>\n",
       "      <th>9</th>\n",
       "      <td>funny</td>\n",
       "      <td>0.003000</td>\n",
       "    </tr>\n",
       "  </tbody>\n",
       "</table>\n",
       "</div>"
      ],
      "text/plain": [
       "  data names  unique length\n",
       "0        bid       0.417458\n",
       "1       date       0.199580\n",
       "2        rid       1.000000\n",
       "3       star       0.000600\n",
       "4      texts       0.999800\n",
       "5   texttype       0.000200\n",
       "6        uid       0.640336\n",
       "7       cool       0.003000\n",
       "8     useful       0.002900\n",
       "9      funny       0.003000"
      ]
     },
     "execution_count": 2,
     "metadata": {},
     "output_type": "execute_result"
    }
   ],
   "source": [
    "# Use list comprehention to grab all columns and use them to access each dataframe column values. \n",
    "# Then find the number of unique values and divide that number by the total number of rows\n",
    "# Last put that value and the column name in a tuple and put all tuples in a list called unique\n",
    "unique= [(i,(test_query[i].nunique())/len(test_query)) for i in test_query.columns]\n",
    "# Turn list into a dataframe with data names as column 1 and unique length as column 2\n",
    "pd.DataFrame.from_records(unique, columns=['data names' , 'unique length'])"
   ]
  },
  {
   "cell_type": "markdown",
   "metadata": {},
   "source": [
    "### Grouping users by the number of businesses they reviewed\n",
    "\n",
    "So now we know business id and user id is the columns to look for. But which one do we want to be our main reference? Here user id was chosen because the users are the ones reviewing. \n",
    "\n",
    "Let's group users by the number of unique businesses they review and find the max , min , mean , and median. The lowest number of businesses a user reviews, not suprisingly, is 1. The highest is 38. The average number of businesses a user reviews 1.5 and the median is exactly 1. The median and mean being dissimiliar means there will be a skew affecting the value.\n",
    "\n",
    "If we sort the range of values and print specific rows we can show the top 10 and bottom 10. From this knowledge we can see the top 10 never repeat and grow in increasing increments , while the bottom 10 is just 1 in repeat. We can guess that other low values are probably just as common amd the high values are all different. This would be why despite such a large range the average number of businesses reviewed by a user sticks around 1. Which for us means exactly 1 because businesses can not be decimals."
   ]
  },
  {
   "cell_type": "code",
   "execution_count": 3,
   "metadata": {},
   "outputs": [
    {
     "name": "stdout",
     "output_type": "stream",
     "text": [
      "count    6404.000000\n",
      "mean        1.561680\n",
      "std         1.578922\n",
      "min         1.000000\n",
      "25%         1.000000\n",
      "50%         1.000000\n",
      "75%         1.000000\n",
      "max        38.000000\n",
      "Name: bid, dtype: float64\n"
     ]
    },
    {
     "data": {
      "text/html": [
       "<div>\n",
       "<style scoped>\n",
       "    .dataframe tbody tr th:only-of-type {\n",
       "        vertical-align: middle;\n",
       "    }\n",
       "\n",
       "    .dataframe tbody tr th {\n",
       "        vertical-align: top;\n",
       "    }\n",
       "\n",
       "    .dataframe thead th {\n",
       "        text-align: right;\n",
       "    }\n",
       "</style>\n",
       "<table border=\"1\" class=\"dataframe\">\n",
       "  <thead>\n",
       "    <tr style=\"text-align: right;\">\n",
       "      <th></th>\n",
       "      <th></th>\n",
       "      <th>bid</th>\n",
       "    </tr>\n",
       "    <tr>\n",
       "      <th></th>\n",
       "      <th>uid</th>\n",
       "      <th></th>\n",
       "    </tr>\n",
       "  </thead>\n",
       "  <tbody>\n",
       "    <tr>\n",
       "      <th rowspan=\"10\" valign=\"top\">Top 10</th>\n",
       "      <th>fczQCSmaWF78toLEmb0Zsw</th>\n",
       "      <td>38</td>\n",
       "    </tr>\n",
       "    <tr>\n",
       "      <th>0CMz8YaO3f8xu4KqQgKb9Q</th>\n",
       "      <td>25</td>\n",
       "    </tr>\n",
       "    <tr>\n",
       "      <th>90a6z--_CUrl84aCzZyPsg</th>\n",
       "      <td>22</td>\n",
       "    </tr>\n",
       "    <tr>\n",
       "      <th>4ozupHULqGyO42s3zNUzOQ</th>\n",
       "      <td>18</td>\n",
       "    </tr>\n",
       "    <tr>\n",
       "      <th>0mqHhdKEdak_A1FBhFNXqA</th>\n",
       "      <td>18</td>\n",
       "    </tr>\n",
       "    <tr>\n",
       "      <th>wHg1YkCzdZq9WBJOTRgxHQ</th>\n",
       "      <td>17</td>\n",
       "    </tr>\n",
       "    <tr>\n",
       "      <th>0bNXP9quoJEgyVZu9ipGgQ</th>\n",
       "      <td>16</td>\n",
       "    </tr>\n",
       "    <tr>\n",
       "      <th>_PzSNcfrCjeBxSLXRoMmgQ</th>\n",
       "      <td>16</td>\n",
       "    </tr>\n",
       "    <tr>\n",
       "      <th>joIzw_aUiNvBTuGoytrH7g</th>\n",
       "      <td>15</td>\n",
       "    </tr>\n",
       "    <tr>\n",
       "      <th>JgDkCER12uiv4lbpmkZ9VA</th>\n",
       "      <td>15</td>\n",
       "    </tr>\n",
       "    <tr>\n",
       "      <th rowspan=\"10\" valign=\"top\">Bottom 10</th>\n",
       "      <th>zzmRKNph-pBHDL2qwGv9Fw</th>\n",
       "      <td>1</td>\n",
       "    </tr>\n",
       "    <tr>\n",
       "      <th>ZmCfwDMuYkhpyr-hWKgiaw</th>\n",
       "      <td>1</td>\n",
       "    </tr>\n",
       "    <tr>\n",
       "      <th>Zm2k6dJtqKDz3pZ70SwohA</th>\n",
       "      <td>1</td>\n",
       "    </tr>\n",
       "    <tr>\n",
       "      <th>ZirtwB_QHFUGX_7x02jf5Q</th>\n",
       "      <td>1</td>\n",
       "    </tr>\n",
       "    <tr>\n",
       "      <th>ZiMCaIaUlBmVnNjREY0W6Q</th>\n",
       "      <td>1</td>\n",
       "    </tr>\n",
       "    <tr>\n",
       "      <th>Zi9UXJ81qMtzXRZ8mp7PxQ</th>\n",
       "      <td>1</td>\n",
       "    </tr>\n",
       "    <tr>\n",
       "      <th>Zi0h5i-ZKDI9hZQgKCyDSw</th>\n",
       "      <td>1</td>\n",
       "    </tr>\n",
       "    <tr>\n",
       "      <th>Zgp9T6IOVFOozrWDw_mUGQ</th>\n",
       "      <td>1</td>\n",
       "    </tr>\n",
       "    <tr>\n",
       "      <th>vuxnLRJLT7EjjwIwycDAoA</th>\n",
       "      <td>1</td>\n",
       "    </tr>\n",
       "    <tr>\n",
       "      <th>Zg_M3iwTqOgp-2i6Usyftg</th>\n",
       "      <td>1</td>\n",
       "    </tr>\n",
       "  </tbody>\n",
       "</table>\n",
       "</div>"
      ],
      "text/plain": [
       "                                  bid\n",
       "          uid                        \n",
       "Top 10    fczQCSmaWF78toLEmb0Zsw   38\n",
       "          0CMz8YaO3f8xu4KqQgKb9Q   25\n",
       "          90a6z--_CUrl84aCzZyPsg   22\n",
       "          4ozupHULqGyO42s3zNUzOQ   18\n",
       "          0mqHhdKEdak_A1FBhFNXqA   18\n",
       "          wHg1YkCzdZq9WBJOTRgxHQ   17\n",
       "          0bNXP9quoJEgyVZu9ipGgQ   16\n",
       "          _PzSNcfrCjeBxSLXRoMmgQ   16\n",
       "          joIzw_aUiNvBTuGoytrH7g   15\n",
       "          JgDkCER12uiv4lbpmkZ9VA   15\n",
       "Bottom 10 zzmRKNph-pBHDL2qwGv9Fw    1\n",
       "          ZmCfwDMuYkhpyr-hWKgiaw    1\n",
       "          Zm2k6dJtqKDz3pZ70SwohA    1\n",
       "          ZirtwB_QHFUGX_7x02jf5Q    1\n",
       "          ZiMCaIaUlBmVnNjREY0W6Q    1\n",
       "          Zi9UXJ81qMtzXRZ8mp7PxQ    1\n",
       "          Zi0h5i-ZKDI9hZQgKCyDSw    1\n",
       "          Zgp9T6IOVFOozrWDw_mUGQ    1\n",
       "          vuxnLRJLT7EjjwIwycDAoA    1\n",
       "          Zg_M3iwTqOgp-2i6Usyftg    1"
      ]
     },
     "execution_count": 3,
     "metadata": {},
     "output_type": "execute_result"
    }
   ],
   "source": [
    "import seaborn as sns\n",
    "import matplotlib.pyplot as plt\n",
    "length_df = test_query.groupby('uid')[['bid']].nunique()\n",
    "print(length_df['bid'].describe())\n",
    "min_max_10 =pd.concat([length_df.sort_values(['bid'],ascending=False).head(10), \\\n",
    "              length_df.sort_values(['bid'],ascending=True).head(10)], keys=['Top 10', 'Bottom 10'])\n",
    "\n",
    "min_max_10"
   ]
  },
  {
   "cell_type": "markdown",
   "metadata": {},
   "source": [
    "### Distribution of grouping \n",
    "\n",
    "After creatingg a distribution plot our guess is justified. The mean is 1 which means just as much values are 1 that are in the range 2 to 38. So most users focus their attention on one business to review , probably inspired to create an account for that very reason. "
   ]
  },
  {
   "cell_type": "code",
   "execution_count": 4,
   "metadata": {},
   "outputs": [
    {
     "data": {
      "image/png": "[encoded data removed]",
      "text/plain": [
       "<Figure size 576x288 with 1 Axes>"
      ]
     },
     "metadata": {
      "needs_background": "light"
     },
     "output_type": "display_data"
    }
   ],
   "source": [
    "\n",
    "fig, ax = plt.subplots(figsize=(8, 4))\n",
    "sns.distplot(length_df['bid'],rug=True,kde=False,hist=True,ax=ax)\n",
    "plt.xlabel('# Businesses Reviewed per User')\n",
    "plt.title('Distribution of # of User Reviews per Business')\n",
    "plt.show()"
   ]
  },
  {
   "cell_type": "markdown",
   "metadata": {},
   "source": [
    "## PLACEHOLDER\n",
    "### Query & format for the right information\n",
    "\n",
    "\n",
    "It's now time to get to #1 (columns that are'nt need) and #2 (bad formatting with the heading). Since we are using this data for machine learning we have no need for any of the IDs. The text type is also not useful as all the posts are labeled review. To get rid of them we will skip a Python solution all together and just select only the columns that aren't the columns mentioned using SQL. Now we will take the Dataframe returned and remove the first row and any extra data that is a side affect of our Python operations. We are leeft with a Dataframe with 6 columns and 10000 rows. None of those rows include Null and all of the columns are of datatype Object. "
   ]
  },
  {
   "cell_type": "code",
   "execution_count": 5,
   "metadata": {
    "scrolled": false
   },
   "outputs": [
    {
     "name": "stdout",
     "output_type": "stream",
     "text": [
      "<class 'pandas.core.frame.DataFrame'>\n",
      "RangeIndex: 10000 entries, 0 to 9999\n",
      "Data columns (total 6 columns):\n",
      "date      10000 non-null object\n",
      "star      10000 non-null object\n",
      "texts     10000 non-null object\n",
      "cool      10000 non-null object\n",
      "useful    10000 non-null object\n",
      "funny     10000 non-null object\n",
      "dtypes: object(6)\n",
      "memory usage: 468.8+ KB\n",
      "None\n"
     ]
    },
    {
     "data": {
      "text/html": [
       "<div>\n",
       "<style scoped>\n",
       "    .dataframe tbody tr th:only-of-type {\n",
       "        vertical-align: middle;\n",
       "    }\n",
       "\n",
       "    .dataframe tbody tr th {\n",
       "        vertical-align: top;\n",
       "    }\n",
       "\n",
       "    .dataframe thead th {\n",
       "        text-align: right;\n",
       "    }\n",
       "</style>\n",
       "<table border=\"1\" class=\"dataframe\">\n",
       "  <thead>\n",
       "    <tr style=\"text-align: right;\">\n",
       "      <th></th>\n",
       "      <th>date</th>\n",
       "      <th>star</th>\n",
       "      <th>texts</th>\n",
       "      <th>cool</th>\n",
       "      <th>useful</th>\n",
       "      <th>funny</th>\n",
       "    </tr>\n",
       "  </thead>\n",
       "  <tbody>\n",
       "    <tr>\n",
       "      <th>0</th>\n",
       "      <td>2011-01-26</td>\n",
       "      <td>5</td>\n",
       "      <td>My wife took me here on my birthday for breakf...</td>\n",
       "      <td>2</td>\n",
       "      <td>5</td>\n",
       "      <td>0</td>\n",
       "    </tr>\n",
       "    <tr>\n",
       "      <th>1</th>\n",
       "      <td>2011-07-27</td>\n",
       "      <td>5</td>\n",
       "      <td>I have no idea why some people give bad review...</td>\n",
       "      <td>0</td>\n",
       "      <td>0</td>\n",
       "      <td>0</td>\n",
       "    </tr>\n",
       "    <tr>\n",
       "      <th>2</th>\n",
       "      <td>2012-06-14</td>\n",
       "      <td>4</td>\n",
       "      <td>love the gyro plate. Rice is so good and I als...</td>\n",
       "      <td>0</td>\n",
       "      <td>1</td>\n",
       "      <td>0</td>\n",
       "    </tr>\n",
       "    <tr>\n",
       "      <th>3</th>\n",
       "      <td>2010-05-27</td>\n",
       "      <td>5</td>\n",
       "      <td>Rosie Dakota and I LOVE Chaparral Dog Park!!! ...</td>\n",
       "      <td>1</td>\n",
       "      <td>2</td>\n",
       "      <td>0</td>\n",
       "    </tr>\n",
       "    <tr>\n",
       "      <th>4</th>\n",
       "      <td>2012-01-05</td>\n",
       "      <td>5</td>\n",
       "      <td>General Manager Scott Petello is a good egg!!!...</td>\n",
       "      <td>0</td>\n",
       "      <td>0</td>\n",
       "      <td>0</td>\n",
       "    </tr>\n",
       "  </tbody>\n",
       "</table>\n",
       "</div>"
      ],
      "text/plain": [
       "         date star                                              texts cool  \\\n",
       "0  2011-01-26    5  My wife took me here on my birthday for breakf...    2   \n",
       "1  2011-07-27    5  I have no idea why some people give bad review...    0   \n",
       "2  2012-06-14    4  love the gyro plate. Rice is so good and I als...    0   \n",
       "3  2010-05-27    5  Rosie Dakota and I LOVE Chaparral Dog Park!!! ...    1   \n",
       "4  2012-01-05    5  General Manager Scott Petello is a good egg!!!...    0   \n",
       "\n",
       "  useful funny  \n",
       "0      5     0  \n",
       "1      0     0  \n",
       "2      1     0  \n",
       "3      2     0  \n",
       "4      0     0  "
      ]
     },
     "execution_count": 5,
     "metadata": {},
     "output_type": "execute_result"
    }
   ],
   "source": [
    "df = pd.read_sql_query(\"SELECT date , star , texts, cool , useful, funny FROM business\",conn)\n",
    "yelp_df = pd.DataFrame(df).drop(df.index[0]).reset_index().drop(['index'] , axis=1)\n",
    "print( yelp_df.info())\n",
    "yelp_df.head()"
   ]
  },
  {
   "cell_type": "markdown",
   "metadata": {},
   "source": [
    "### Statistical analysis of Star column ?(comeback for int convert)\n",
    "\n",
    "The describe function gives us some basic stat facts about our star data, however, it only worls when our data is in number form. All of our data is an Object so without changing that we wont get the info we want. In fact beyond our star column almost all columns except date and texts would benefit from being turned into integers. So let's do just that. \n",
    "\n",
    "Describing the star data gives us the count , mean , and percentile information. From the data first we can see that reviews were likely to be postive with a median of 4 stars. Even the 25th percentile is already includes 3 stars. It is human nature to review with a skew toward ebing positive. "
   ]
  },
  {
   "cell_type": "code",
   "execution_count": 6,
   "metadata": {
    "scrolled": false
   },
   "outputs": [
    {
     "name": "stdout",
     "output_type": "stream",
     "text": [
      "<class 'pandas.core.frame.DataFrame'>\n",
      "RangeIndex: 10000 entries, 0 to 9999\n",
      "Data columns (total 6 columns):\n",
      "date      10000 non-null object\n",
      "star      10000 non-null int64\n",
      "texts     10000 non-null object\n",
      "cool      10000 non-null int64\n",
      "useful    10000 non-null int64\n",
      "funny     10000 non-null int64\n",
      "dtypes: int64(4), object(2)\n",
      "memory usage: 468.8+ KB\n",
      "None\n"
     ]
    },
    {
     "data": {
      "text/plain": [
       "count    10000.000000\n",
       "mean         3.777500\n",
       "std          1.214636\n",
       "min          1.000000\n",
       "25%          3.000000\n",
       "50%          4.000000\n",
       "75%          5.000000\n",
       "max          5.000000\n",
       "Name: star, dtype: float64"
      ]
     },
     "execution_count": 6,
     "metadata": {},
     "output_type": "execute_result"
    }
   ],
   "source": [
    "import seaborn as sns\n",
    "%matplotlib inline\n",
    "#yelp_df['texts'].iloc[0]\n",
    "\n",
    "#yelp_df['star'].astype(int).hist()\n",
    "#plt.show()\n",
    "columns =  [ c for c in yelp_df.columns if c != 'date' and c !='texts' ]\n",
    "for col in columns:\n",
    "   yelp_df[col] = yelp_df[col].astype(int)\n",
    "print(yelp_df.info())\n",
    "yelp_df['star'].describe()"
   ]
  },
  {
   "cell_type": "markdown",
   "metadata": {},
   "source": [
    "### Distribution of stars\n",
    "\n",
    "Just like our stat analysis suggested the graph is overwhelmingly made up of 4 stars and 5 stars. So it wouldn't be much of a suprise if the number of stars for a review, if we pick at random to add to the dataset will be a 4 star or 5 star. \n",
    "\n",
    "Previously we treated stars as members of the range domain of integers. This allowed us to find values like percentiles and averages. However, in our data there is no inherent range so stars that convey every possible decimal value do not exist. There is 3.777500 star value despite that being the mean. To handle this we will treat stars as descrite values which means using a barchart to show destribution."
   ]
  },
  {
   "cell_type": "code",
   "execution_count": 7,
   "metadata": {
    "scrolled": true
   },
   "outputs": [
    {
     "data": {
      "image/png": "[encoded data removed]",
      "text/plain": [
       "<Figure size 432x288 with 1 Axes>"
      ]
     },
     "metadata": {
      "needs_background": "light"
     },
     "output_type": "display_data"
    }
   ],
   "source": [
    "import numpy as np\n",
    "from sklearn.preprocessing import MinMaxScaler\n",
    "\n",
    "\n",
    "sns.countplot(x ='star', data = yelp_df) \n",
    "\n",
    "plt.show()\n",
    "\n"
   ]
  },
  {
   "cell_type": "markdown",
   "metadata": {},
   "source": [
    "### Insight\n",
    "\n",
    "When we combine our analysis of the number of businesses a user reviews with how the number of stars are distributed with we might learn something interesting. \n",
    "\n",
    "- The ratio of unique values for star is 0.000600 , for texts is 0.999800 , for business id is 0.417458 , and user id is 0.640336. \n",
    "\n",
    "- In regard to the amount of businesses each user reviews the Max is 38 , the Min is 1 , the Mean is 1.561680199875078 , and the Median is 1.0. For our purposes the mean and median are both 1. The 25th percentile is 1.000000 , the 50th percentile is 1.000000 , 75th percentile 1.000000. \n",
    "\n",
    "\n",
    "- In regard to the amount of stars given for a review the mean is 3.777500 , min is 1.000000 , 25th percentile is 3.000000, median is 4.000000, 75th percentile is 5.000000 , max is 5.000000.\n",
    "\n",
    "- The distribution of the stars has a increase in amount of stars given from the min of 1 star to the median of 4 stars and then a decrease for the remaining value of 5 stars.\n",
    "\n",
    "If the bid is around 41.7% unique that means it is around 59.3% values that repeat at least once. If the uid is 64% unique that means it is 36% values that repeat at least once. When we combine the 59.3% not unique businesses with the 64% unique users we gain some insight. Every user must have at least one business reviewed. \n",
    "\n",
    "Which means if we assume bid and uid barely overlap (as much unique users review as much unique businesses as possible), then still 22.3% of unique users would have reviewed a business that is already reviewed by someone else. If we assume bid and uid overlap as much as possible(as much unique users review as little unique businesses possible), then 4.7% of of unique users would review an unique business. This means 95.3% of unique users would have reviewed a business that is already reviewed by someone else. This means the min percentage of users who reviewed more than one allowed is 22.3% and the max is 95.3%.\n",
    "\n",
    "However , this can not be true. We know that the 75th percentile is still 1. Which means 75% of the businesses that are reviewed are less than or equal to 1. So by default 75% of the range of businesses that are reviewed per user must be at max 1. The true range now is the top 22.3% to 25%. Another way of looking at it is all values between 1st to 75th percentile must be 1 since the min is 1 and the possible value series greater than 1 can start anywhere between the 75th percentile to the 77 percentile. Either way a series roughly equal to the top 22% of the data is always greater than one.\n",
    "\n",
    "Most reviews are positively skewed with a median of 4 stars. 50% of all reviews are reviews that are 4 stars or less. =The bottom 25% ( up to the 25th percentile) are reviews that are 3 stars or less. From 25th percentile to 50th =percentile the reviews could be 3 stars or 4 stars. From the 50th percentile to the 75th percentile the reviews could =be 4 stars or 5 stars. And the top 25%( 75th percentile to max) must be 5 stars. \n",
    "\n",
    "The combination of these two datasets tells us that if the top 50% of reviews can only be 4 stars or 5 stars and 75% of the unique users( which are a subset of all user reviews) reviewed only 1 business, then unless the duplicate user reviews operate under a very different review pattern we can say that users who review only 1 business choose a variety of different stars for the reviews. It is not correct to say a user who reviews 1 business has number of stars they will trend toward."
   ]
  },
  {
   "cell_type": "markdown",
   "metadata": {},
   "source": [
    "## DELETE? But need to change ratings to discrete value\n",
    "### Analyzing cool , funny, useful ratings\n",
    "\n",
    "Before we can plot the features cool , funny and useful we have a problem. We would prefer if all these ratings were consistent in what they mean, and in a form friendly to graphing. But how should we do this?\n",
    "\n",
    "We will do this by turning numeric values into a scheme of low , mid , high. Low will start at 25% of the range , mid will start at 50% of the range and high will start at 75% of the range. In the past we used percentiles to navThigate from the min to the max. This was because we needed to take into account the frequency of each value. Now we don't. We only care about the distance between the min value and max value. For example:\n",
    "\n",
    "If we had a series of values [ 0, 75,75,75,100] , the 50th percentile is 75. However the middle distance the min 1 and the max 100 is 50. Let's double check by using the formula ((n-min)/(max-min))*100. (50-0)/(100-0)=.5 *100 = 50%\n",
    "\n",
    "Distance does not care how many times a value is shown , it only needs the min and max to determine the percentage. This is what we want since low , mid , and high are just the range seperated into parts. To be exact will will make the bottom 25% of the range low and the top 25% high. The remaining will become mid. \n",
    "\n",
    "In the example we knew what the value we wanted was and through the calculations we found the percentage. To get our values we have to change the formula to assume the percentage to calculate the values we will use to divide the range. The new equation is S=1/100(P*max+100*min−P*min) \n",
    "\n"
   ]
  },
  {
   "cell_type": "code",
   "execution_count": 8,
   "metadata": {
    "scrolled": false
   },
   "outputs": [
    {
     "data": {
      "text/plain": [
       "(57.75, 38.5, 19.25)"
      ]
     },
     "execution_count": 8,
     "metadata": {},
     "output_type": "execute_result"
    }
   ],
   "source": [
    "\n",
    "\n",
    "#cool transformation\n",
    "top = (1/100)*(75*yelp_df['cool'].unique().max()+100*yelp_df['cool'].unique().min()-75*yelp_df['cool'].unique().min()) \n",
    "mid = (1/100)*(50*yelp_df['cool'].unique().max()+100*yelp_df['cool'].unique().min()-50*yelp_df['cool'].unique().min()) \n",
    "bottom = (1/100)*(25*yelp_df['cool'].unique().max()+100*yelp_df['cool'].unique().min()-25*yelp_df['cool'].unique().min())\n",
    "# Useful Tranformation\n",
    "top1 = (1/100)*(75*yelp_df['useful'].unique().max()+100*yelp_df['useful'].unique().min()-75*yelp_df['useful'].unique().min()) \n",
    "mid1 = (1/100)*(50*yelp_df['useful'].unique().max()+100*yelp_df['useful'].unique().min()-50*yelp_df['useful'].unique().min()) \n",
    "bottom1 = (1/100)*(25*yelp_df['useful'].unique().max()+100*yelp_df['useful'].unique().min()-25*yelp_df['useful'].unique().min())\n",
    "# Funny Transformation\n",
    "top2 = (1/100)*(75*yelp_df['funny'].unique().max()+100*yelp_df['funny'].unique().min()-75*yelp_df['funny'].unique().min()) \n",
    "mid2 = (1/100)*(50*yelp_df['funny'].unique().max()+100*yelp_df['funny'].unique().min()-50*yelp_df['funny'].unique().min()) \n",
    "bottom2 = (1/100)*(25*yelp_df['funny'].unique().max()+100*yelp_df['funny'].unique().min()-25*yelp_df['funny'].unique().min())\n",
    "\n",
    "\n",
    "yelp_df['cool'] = yelp_df['cool'].apply(lambda x: 'Low' if x < bottom else 'High' if x > top else 'Middle')\n",
    "yelp_df['useful'] = yelp_df['useful'].apply(lambda x: 'Low' if x < bottom1 else 'High' if x > top1 else 'Middle')\n",
    "yelp_df['funny'] = yelp_df['funny'].apply(lambda x: 'Low' if x < bottom else 'High' if x > top else 'Middle')\n",
    "np.unique(df['funny'] , return_counts=True)\n",
    "top , mid , bottom"
   ]
  },
  {
   "cell_type": "markdown",
   "metadata": {},
   "source": [
    "### Analyse review comment text length\n",
    "\n",
    "We would like to know more about the comments in the text field since the comments are what we will try to predict. We need to find a variable about te text to compare to the stars. One of the easiest variables you can use to find more insights is the length or word count of a texts as it doesn't require too much analysing and returns a numeric value."
   ]
  },
  {
   "cell_type": "code",
   "execution_count": 9,
   "metadata": {
    "scrolled": true
   },
   "outputs": [
    {
     "data": {
      "image/png": "[encoded data removed]",
      "text/plain": [
       "<Figure size 432x288 with 1 Axes>"
      ]
     },
     "metadata": {
      "needs_background": "light"
     },
     "output_type": "display_data"
    }
   ],
   "source": [
    "\n",
    "\n",
    "\n",
    "yelp_df['count'] = yelp_df['texts'].str.split().apply(lambda x:len(x))\n",
    "plt.title('Stars by Word Count of Review')\n",
    "g = yelp_df.groupby('star')['count'].mean().plot()\n",
    "g.locator_params(integer=True)\n",
    "plt.ylabel('Word Count')\n",
    "plt.show()\n"
   ]
  },
  {
   "cell_type": "code",
   "execution_count": 10,
   "metadata": {},
   "outputs": [],
   "source": [
    "from sklearn.model_selection import train_test_split\n",
    "X = yelp_df['texts']\n",
    "y = yelp_df['star']\n",
    "# Split data X into train/test and labels Y into train/split ( test=0.2 , train=0.8)\n",
    "#X_train , X_test , Y_train , Y_test =  train_test_split(X, y, test_size=0.2 , random_state=0)\n",
    "#len(X_train) , len(X_test) , len(Y_train), len(Y_test)"
   ]
  },
  {
   "cell_type": "code",
   "execution_count": 11,
   "metadata": {
    "scrolled": true
   },
   "outputs": [
    {
     "name": "stderr",
     "output_type": "stream",
     "text": [
      "[nltk_data] Downloading package stopwords to /home/adam/nltk_data...\n",
      "[nltk_data]   Package stopwords is already up-to-date!\n",
      "[nltk_data] Downloading package wordnet to /home/adam/nltk_data...\n",
      "[nltk_data]   Package wordnet is already up-to-date!\n"
     ]
    }
   ],
   "source": [
    "#Preview data\n",
    "import numpy as np \n",
    "import re # regular expression\n",
    "import nltk\n",
    "nltk.download(\"stopwords\") # download stop words & wordnet\n",
    "nltk.download(\"wordnet\")\n",
    "import pickle # transfer python objects by turning into byte form\n",
    "from nltk.corpus import stopwords\n",
    "from sklearn.datasets import load_files"
   ]
  },
  {
   "cell_type": "code",
   "execution_count": 12,
   "metadata": {},
   "outputs": [
    {
     "data": {
      "text/plain": [
       "10000"
      ]
     },
     "execution_count": 12,
     "metadata": {},
     "output_type": "execute_result"
    }
   ],
   "source": [
    "documents = []\n",
    "from nltk.stem import WordNetLemmatizer\n",
    "\n",
    "stemmer = WordNetLemmatizer() # reduce the word into dictionary root form\n",
    "\n",
    "for sen in range(0, len(X)):\n",
    "    document = re.sub(r'\\W', ' ' ,str(X[sen])) # remove all spcial characters\n",
    "    document = re.sub(r'\\s+[a-zA-Z]\\s+', ' ', document)  # remove all single characters\n",
    "    document = re.sub(r'\\^[a-zA-Z]\\s+', ' ', document) # Remove single characters from the start\n",
    "    document = re.sub(r'\\s+', ' ', document, flags=re.I)# Substituting multiple spaces with single space\n",
    "    document = document.lower()  # Converting to Lowercase\n",
    "    document = document.split()# Split the str document by space and turn into list\n",
    "    document = [stemmer.lemmatize(word) for word in document] #Lemmatization = reduce the word into dictionary root form\n",
    "    document = ' '.join(document)\n",
    "    documents.append(document)\n",
    "len(documents)"
   ]
  },
  {
   "cell_type": "code",
   "execution_count": 13,
   "metadata": {},
   "outputs": [
    {
     "data": {
      "text/plain": [
       "numpy.ndarray"
      ]
     },
     "execution_count": 13,
     "metadata": {},
     "output_type": "execute_result"
    }
   ],
   "source": [
    " # Convert text into the corresponding numerical form\n",
    "from sklearn.feature_extraction.text import CountVectorizer\n",
    " # max_feature= 1500 : use 1500 most occurring words as features for training classifier\n",
    " # min_df = 5 : minimum number of documents that should contain the word\n",
    " # max_df = 0.7 : include only those words that occur in a maximum of 70% of all the documents\n",
    " # stop_words = stopwords.words('english')  : remove stopwords from text\n",
    "vectorizer = CountVectorizer(max_features=1500, min_df=5, max_df=0.7, stop_words=stopwords.words('english'))  \n",
    " # Convert\n",
    "#print(vectorizer.fit_transform(documents))  \n",
    "X = vectorizer.fit_transform(documents).toarray()\n",
    "type(X)\n"
   ]
  },
  {
   "cell_type": "code",
   "execution_count": 17,
   "metadata": {},
   "outputs": [],
   "source": [
    "from sklearn.model_selection import GridSearchCV , RandomizedSearchCV\n",
    "# convert values obtained using the bag of words model into TFIDF values\n",
    "from sklearn.feature_extraction.text import TfidfTransformer\n",
    "# Not Yet , Compare with or without\n",
    "from sklearn.model_selection import train_test_split\n",
    "from sklearn.ensemble import RandomForestClassifier\n",
    "# Split data X into train/test and labels Y into train/split ( test=0.2 , train=0.8)\n",
    "tfdconverter =  TfidfTransformer()\n",
    "X_IDF = tfdconverter.fit_transform(X).toarray()\n",
    "X_train , X_test , Y_train , Y_test =  train_test_split(X_IDF, y, test_size=0.2 , random_state=0)"
   ]
  },
  {
   "cell_type": "code",
   "execution_count": 18,
   "metadata": {},
   "outputs": [],
   "source": [
    "\n",
    "# Create classifier with 1000 trees in the random forest\n",
    "classifier = RandomForestClassifier(random_state=0)"
   ]
  },
  {
   "cell_type": "code",
   "execution_count": 19,
   "metadata": {},
   "outputs": [
    {
     "name": "stdout",
     "output_type": "stream",
     "text": [
      "{'n_estimators': 1000, 'criterion': 'gini'}\n",
      "0.480375\n",
      "RandomForestClassifier(bootstrap=True, class_weight=None, criterion='gini',\n",
      "            max_depth=None, max_features='auto', max_leaf_nodes=None,\n",
      "            min_impurity_decrease=0.0, min_impurity_split=None,\n",
      "            min_samples_leaf=1, min_samples_split=2,\n",
      "            min_weight_fraction_leaf=0.0, n_estimators=1000, n_jobs=None,\n",
      "            oob_score=False, random_state=0, verbose=0, warm_start=False)\n"
     ]
    }
   ],
   "source": [
    "param = { 'n_estimators': [800,1000,1200] , 'criterion' :['gini', 'entropy']}\n",
    "#temp = GridSearchCV(estimator=classifier, param_grid=param , scoring='accuracy', cv= 5)\n",
    "CV = RandomizedSearchCV(estimator = classifier, param_distributions = param, scoring='accuracy', n_iter=4,cv=5, verbose=0, random_state=0)\n",
    "# train classifier with X data and Y labels and use classifier to predict Y_test with X_test data\n",
    "CV.fit(X_train , Y_train)\n",
    "#ypred = classifier.predict(X_test)\n",
    "print(CV.best_params_)\n",
    "print(CV.best_score_)\n",
    "print(CV.best_estimator_)"
   ]
  },
  {
   "cell_type": "code",
   "execution_count": 20,
   "metadata": {},
   "outputs": [
    {
     "data": {
      "text/plain": [
       "array([4, 4, 4, ..., 4, 5, 4])"
      ]
     },
     "execution_count": 20,
     "metadata": {},
     "output_type": "execute_result"
    }
   ],
   "source": [
    "pred_Y = CV.predict(X_test)\n",
    "pred_Y"
   ]
  },
  {
   "cell_type": "code",
   "execution_count": null,
   "metadata": {},
   "outputs": [],
   "source": [
    "\n"
   ]
  },
  {
   "cell_type": "code",
   "execution_count": null,
   "metadata": {},
   "outputs": [],
   "source": [
    " # max_feature= 1500 : use 1500 most occurring words as features for training classifier\n",
    " # min_df = 5 : minimum number of documents that should contain the word\n",
    " # max_df = 0.7 : include only those words that occur in a maximum of 70% of all the documents\n",
    " # stop_words = stopwords.words('english')  : remove stopwords from text\n",
    "from itertools import *\n",
    "import matplotlib.pyplot as plt\n",
    "import seaborn as sns\n",
    "class tunning:\n",
    "    def __init__(self,IDF , max_feat , min_df ,max_df):\n",
    "        self._IDF = IDF\n",
    "        self._max_feat = max_feat\n",
    "        self._min_df = min_df\n",
    "        self._max_df = max_df\n",
    "        self._key = ['max_feat' ,  'min_df' , 'max_df']\n",
    "        self._val = [self._max_feat,self._min_df, self._max_df]\n",
    "        self._metric_dic = dict(zip(self._key , self._val))\n",
    "    def set_IDF(self, IDF):\n",
    "        self._IDF = IDF\n",
    "    def set_metrics(self, metric_name , metric_value):\n",
    "        self._metric_dic[metric_name] = metric_value\n",
    "        \n",
    "    def get_IDF(self):\n",
    "        return self._IDF\n",
    "    def get_metrics(self):\n",
    "        return self._metric_dic\n",
    "    #def plot(self, error_val , ):\n",
    "        \n",
    "        \n",
    "        \n",
    "    #def del_IDF(self, ):\n",
    "    #def del_metrics(self, ):\n"
   ]
  },
  {
   "cell_type": "code",
   "execution_count": 21,
   "metadata": {},
   "outputs": [
    {
     "name": "stdout",
     "output_type": "stream",
     "text": [
      "0.478\n",
      "[[42  0]\n",
      " [ 0  0]]\n",
      "              precision    recall  f1-score   support\n",
      "\n",
      "           1       0.78      0.32      0.45       133\n",
      "           2       0.50      0.01      0.03       206\n",
      "           3       0.46      0.07      0.13       281\n",
      "           4       0.42      0.69      0.52       706\n",
      "           5       0.56      0.59      0.58       674\n",
      "\n",
      "   micro avg       0.48      0.48      0.48      2000\n",
      "   macro avg       0.54      0.34      0.34      2000\n",
      "weighted avg       0.50      0.48      0.43      2000\n",
      "\n"
     ]
    }
   ],
   "source": [
    "from sklearn.metrics import accuracy_score, confusion_matrix, classification_report\n",
    "print(accuracy_score(Y_test , pred_Y))\n",
    "print(confusion_matrix(Y_test , pred_Y, labels=[1,0]))\n",
    "print(classification_report(Y_test , pred_Y))\n",
    "#sns.lineplot(accuracy_score(Y_test , ypred), )"
   ]
  },
  {
   "cell_type": "code",
   "execution_count": null,
   "metadata": {},
   "outputs": [],
   "source": []
  },
  {
   "cell_type": "code",
   "execution_count": null,
   "metadata": {},
   "outputs": [],
   "source": []
  },
  {
   "cell_type": "code",
   "execution_count": null,
   "metadata": {},
   "outputs": [],
   "source": []
  }
 ],
 "metadata": {
  "kernelspec": {
   "display_name": "Python 3",
   "language": "python",
   "name": "python3"
  },
  "language_info": {
   "codemirror_mode": {
    "name": "ipython",
    "version": 3
   },
   "file_extension": ".py",
   "mimetype": "text/x-python",
   "name": "python",
   "nbconvert_exporter": "python",
   "pygments_lexer": "ipython3",
   "version": "3.7.3"
  }
 },
 "nbformat": 4,
 "nbformat_minor": 2
}
